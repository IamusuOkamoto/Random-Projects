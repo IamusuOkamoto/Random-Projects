{
 "cells": [
  {
   "cell_type": "code",
   "execution_count": null,
   "metadata": {},
   "outputs": [],
   "source": [
    "import numpy as np\n",
    "import matplotlib.pyplot as plt\n",
    "from sklearn.datasets import make_moons\n",
    "from sklearn.neural_network import MLPClassifier\n",
    "from sklearn.preprocessing import StandardScaler\n",
    "from sklearn.pipeline import Pipeline\n",
    "from pathlib import Path\n",
    "\n",
    "# optioneel: voor GIF\n",
    "import imageio.v2 as imageio  "
   ]
  },
  {
   "cell_type": "code",
   "execution_count": null,
   "metadata": {},
   "outputs": [],
   "source": [
    "# Moon\n",
    "X, y = make_moons(n_samples=800, noise=0.2, random_state=0)"
   ]
  },
  {
   "cell_type": "code",
   "execution_count": null,
   "metadata": {},
   "outputs": [],
   "source": [
    "# model \n",
    "clf = Pipeline([\n",
    "    (\"scaler\", StandardScaler()),\n",
    "    (\"mlp\", MLPClassifier(\n",
    "        hidden_layer_sizes=(16,16),\n",
    "        activation=\"tanh\",\n",
    "        solver=\"adam\",\n",
    "        max_iter=1,\n",
    "        warm_start=True,\n",
    "        verbose=True, \n",
    "        random_state=0\n",
    "    )),\n",
    "])\n",
    "clf"
   ]
  },
  {
   "cell_type": "code",
   "execution_count": null,
   "metadata": {},
   "outputs": [],
   "source": [
    "# plot\n",
    "def plot_decision_boundary(clf, X, y, title, path=None):\n",
    "    x_min, x_max = X[:, 0].min() - 1.0, X[:, 0].max() + 1.0\n",
    "    y_min, y_max = X[:, 1].min() - 1.0, X[:, 1].max() + 1.0\n",
    "    xx, yy = np.meshgrid(\n",
    "        np.linspace(x_min, x_max, 400),\n",
    "        np.linspace(y_min, y_max, 400)\n",
    "    )\n",
    "    Z = clf.predict_proba(np.c_[xx.ravel(), yy.ravel()])[:, 1].reshape(xx.shape)\n",
    "\n",
    "    plt.figure(figsize=(6,5))\n",
    "    plt.contourf(xx, yy, Z, alpha=0.6, levels=30)\n",
    "    plt.scatter(X[y==0,0], X[y==0,1], s=15, label=\"Class 0\")\n",
    "    plt.scatter(X[y==1,0], X[y==1,1], s=15, label=\"Class 1\")\n",
    "    plt.title(title)\n",
    "    plt.xlabel(\"x1\"); plt.ylabel(\"x2\"); plt.legend(loc=\"best\")\n",
    "    plt.tight_layout()\n",
    "    if path:\n",
    "        plt.savefig(path, dpi=120, bbox_inches=\"tight\")\n",
    "        plt.close()\n",
    "    else:\n",
    "        plt.show()"
   ]
  },
  {
   "cell_type": "code",
   "execution_count": null,
   "metadata": {},
   "outputs": [],
   "source": [
    "# train\n",
    "outdir = Path(\"frames\")\n",
    "outdir.mkdir(exist_ok=True)\n",
    "n_epochs = 200  #itterations\n",
    "saved = []\n",
    "\n",
    "for epoch in range(1, n_epochs+1):\n",
    "    clf.fit(X, y)  # traint 1 extra epoch\n",
    "    frame_path = outdir / f\"frame_{epoch:04d}.png\"\n",
    "    plot_decision_boundary(clf, X, y, f\"Epoch {epoch}\", frame_path)\n",
    "    saved.append(frame_path)\n",
    "\n",
    "print(\"Aantal frames:\", len(saved))"
   ]
  },
  {
   "cell_type": "code",
   "execution_count": null,
   "metadata": {},
   "outputs": [],
   "source": [
    "# GIF\n",
    "images = [imageio.imread(p) for p in saved]\n",
    "gif_path = \"training_progress.gif\"\n",
    "imageio.mimsave(gif_path, images, duration=0.2)  # 0.2s per frame\n",
    "print(\"GIF opgeslagen als:\", gif_path)\n"
   ]
  }
 ],
 "metadata": {
  "kernelspec": {
   "display_name": "base",
   "language": "python",
   "name": "python3"
  },
  "language_info": {
   "codemirror_mode": {
    "name": "ipython",
    "version": 3
   },
   "file_extension": ".py",
   "mimetype": "text/x-python",
   "name": "python",
   "nbconvert_exporter": "python",
   "pygments_lexer": "ipython3",
   "version": "3.11.5"
  }
 },
 "nbformat": 4,
 "nbformat_minor": 2
}
